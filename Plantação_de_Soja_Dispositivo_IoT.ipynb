{
  "nbformat": 4,
  "nbformat_minor": 0,
  "metadata": {
    "colab": {
      "provenance": [],
      "authorship_tag": "ABX9TyNbMA1bQ3Ccqy00+476CXJ9"
    },
    "kernelspec": {
      "name": "python3",
      "display_name": "Python 3"
    },
    "language_info": {
      "name": "python"
    }
  },
  "cells": [
    {
      "cell_type": "markdown",
      "source": [
        "## EXTRAÇÃO DE DADOS\n"
      ],
      "metadata": {
        "id": "fPXLm1e2koUH"
      }
    },
    {
      "cell_type": "code",
      "execution_count": null,
      "metadata": {
        "colab": {
          "base_uri": "https://localhost:8080/"
        },
        "id": "x0IADuKkd6hJ",
        "outputId": "ea59dedc-8781-4e8a-c5da-4e01db8208ff"
      },
      "outputs": [
        {
          "output_type": "stream",
          "name": "stdout",
          "text": [
            "Requirement already satisfied: pyspark in /usr/local/lib/python3.11/dist-packages (3.5.4)\n",
            "Requirement already satisfied: py4j==0.10.9.7 in /usr/local/lib/python3.11/dist-packages (from pyspark) (0.10.9.7)\n"
          ]
        }
      ],
      "source": [
        "# Vamos trabalhar com pyspark, instalando:\n",
        "!pip install pyspark"
      ]
    },
    {
      "cell_type": "code",
      "source": [
        "# No meu caso já esta instalado, então para validar consulto assim:\n",
        "import pyspark\n",
        "print(pyspark.__version__)"
      ],
      "metadata": {
        "colab": {
          "base_uri": "https://localhost:8080/"
        },
        "id": "vhhEWUHlfIYV",
        "outputId": "fad89882-5c23-4d4d-a762-071de5d14b11"
      },
      "execution_count": null,
      "outputs": [
        {
          "output_type": "stream",
          "name": "stdout",
          "text": [
            "3.5.4\n"
          ]
        }
      ]
    },
    {
      "cell_type": "code",
      "source": [
        "# Precisamos importar SparkSession\n",
        "from pyspark.sql import SparkSession"
      ],
      "metadata": {
        "id": "gk8Pn83qfTuD"
      },
      "execution_count": null,
      "outputs": []
    },
    {
      "cell_type": "code",
      "source": [
        "# Criando uma nova sessão\n",
        "spark = SparkSession.builder.appName(\"sojaSensores\").getOrCreate()"
      ],
      "metadata": {
        "id": "mdqiRuunhSeI"
      },
      "execution_count": null,
      "outputs": []
    },
    {
      "cell_type": "code",
      "source": [
        "# Chamando a sessão que criamos e lendo o arquivo csv; \"show(5)\" é para mostrar os 5 registros\n",
        "spark.read.format('csv').option('header',True).load('sample_data/sensores-iot.csv').show(5)"
      ],
      "metadata": {
        "colab": {
          "base_uri": "https://localhost:8080/"
        },
        "id": "yoDEtUCIhmPL",
        "outputId": "d41dff41-80a4-4d10-f375-e2930535d8c7"
      },
      "execution_count": null,
      "outputs": [
        {
          "output_type": "stream",
          "name": "stdout",
          "text": [
            "+---+-----------+-----------+--------+--------------------+-----------+-----------+\n",
            "|_c0|  device_id|temperature|humidity|           timestamp|   latitude|  longitude|\n",
            "+---+-----------+-----------+--------+--------------------+-----------+-----------+\n",
            "|  0|sensor-2231|         25|      49|2004-10-08 05:19:...| 39.0319385|-167.644666|\n",
            "|  1|sensor-3869|         17|      42|2010-06-16 20:35:...| 43.4913955|  76.084671|\n",
            "|  2|sensor-7079|         35|      58|2010-10-03 18:10:...|-39.9795415|-149.006886|\n",
            "|  3|sensor-1163|         15|      64|2005-10-10 11:38:...| 28.1871005|-112.581419|\n",
            "|  4|sensor-4483|         14|      65|2020-04-29 07:56:...| 89.2243515| -16.076939|\n",
            "+---+-----------+-----------+--------+--------------------+-----------+-----------+\n",
            "only showing top 5 rows\n",
            "\n"
          ]
        }
      ]
    },
    {
      "cell_type": "code",
      "source": [
        "# Salvando em um Data Frame\n",
        "df = spark.read.format('csv').option('header',True).load('sample_data/sensores-iot.csv')"
      ],
      "metadata": {
        "id": "TmnimH9CcaTi"
      },
      "execution_count": null,
      "outputs": []
    },
    {
      "cell_type": "code",
      "source": [
        "# Mostrando o Data Frame apenas 5\n",
        "df.show(5)"
      ],
      "metadata": {
        "colab": {
          "base_uri": "https://localhost:8080/"
        },
        "id": "bqQR8WWsclYL",
        "outputId": "864f9869-1f06-4ca2-ab48-19e898a7ab7c"
      },
      "execution_count": null,
      "outputs": [
        {
          "output_type": "stream",
          "name": "stdout",
          "text": [
            "+---+-----------+-----------+--------+--------------------+-----------+-----------+\n",
            "|_c0|  device_id|temperature|humidity|           timestamp|   latitude|  longitude|\n",
            "+---+-----------+-----------+--------+--------------------+-----------+-----------+\n",
            "|  0|sensor-2231|         25|      49|2004-10-08 05:19:...| 39.0319385|-167.644666|\n",
            "|  1|sensor-3869|         17|      42|2010-06-16 20:35:...| 43.4913955|  76.084671|\n",
            "|  2|sensor-7079|         35|      58|2010-10-03 18:10:...|-39.9795415|-149.006886|\n",
            "|  3|sensor-1163|         15|      64|2005-10-10 11:38:...| 28.1871005|-112.581419|\n",
            "|  4|sensor-4483|         14|      65|2020-04-29 07:56:...| 89.2243515| -16.076939|\n",
            "+---+-----------+-----------+--------+--------------------+-----------+-----------+\n",
            "only showing top 5 rows\n",
            "\n"
          ]
        }
      ]
    },
    {
      "cell_type": "markdown",
      "source": [
        "## TRANSFORMAÇÃO DE DADOS"
      ],
      "metadata": {
        "id": "AJgZ1K_BktJV"
      }
    },
    {
      "cell_type": "markdown",
      "source": [
        "### DATA WRANGLING\n",
        "\"Refinando os dados\": Etapa de (coleta, limpeza, transformação, enriquecimento, validação e exportação) estruturação e enriquecimento de dados brutos, para torná-los adequados para análise."
      ],
      "metadata": {
        "id": "BSUad9Iyk4Cl"
      }
    },
    {
      "cell_type": "code",
      "source": [
        "#Importando as funções do Pyspark\n",
        "from pyspark.sql import functions as F"
      ],
      "metadata": {
        "id": "dzEWEi5ldG1R"
      },
      "execution_count": null,
      "outputs": []
    },
    {
      "cell_type": "code",
      "source": [
        "# Função de tratamento de data: Criando a coluna tipo data, convertendo a coluna timestamp para data\n",
        "df = df.withColumn('date',F.to_date(F.col('timestamp')))"
      ],
      "metadata": {
        "id": "OrOjm4aIh3SQ"
      },
      "execution_count": null,
      "outputs": []
    },
    {
      "cell_type": "code",
      "source": [
        "df.show(5)"
      ],
      "metadata": {
        "colab": {
          "base_uri": "https://localhost:8080/"
        },
        "id": "xnp4glzXdleS",
        "outputId": "bc75a800-e702-4e40-f01e-c4c299d2e458"
      },
      "execution_count": null,
      "outputs": [
        {
          "output_type": "stream",
          "name": "stdout",
          "text": [
            "+---+-----------+-----------+--------+--------------------+-----------+-----------+----------+----+-----+---+\n",
            "|_c0|  device_id|temperature|humidity|           timestamp|   latitude|  longitude|      date|year|month|day|\n",
            "+---+-----------+-----------+--------+--------------------+-----------+-----------+----------+----+-----+---+\n",
            "|  0|sensor-2231|         25|      49|2004-10-08 05:19:...| 39.0319385|-167.644666|2004-10-08|2004|   10|  8|\n",
            "|  1|sensor-3869|         17|      42|2010-06-16 20:35:...| 43.4913955|  76.084671|2010-06-16|2010|    6| 16|\n",
            "|  2|sensor-7079|         35|      58|2010-10-03 18:10:...|-39.9795415|-149.006886|2010-10-03|2010|   10|  3|\n",
            "|  3|sensor-1163|         15|      64|2005-10-10 11:38:...| 28.1871005|-112.581419|2005-10-10|2005|   10| 10|\n",
            "|  4|sensor-4483|         14|      65|2020-04-29 07:56:...| 89.2243515| -16.076939|2020-04-29|2020|    4| 29|\n",
            "+---+-----------+-----------+--------+--------------------+-----------+-----------+----------+----+-----+---+\n",
            "only showing top 5 rows\n",
            "\n"
          ]
        }
      ]
    },
    {
      "cell_type": "code",
      "source": [
        "# Criando uma coluna ano do tipo interiro e uma coluna mês e dia\n",
        "df = (df.withColumn('year', F.year(F.col('date')))\n",
        "        .withColumn('month', F.month(F.col('date')))\n",
        "        .withColumn('day', F.dayofmonth(F.col('date')))\n",
        "        .withColumn('time', F.date_format(F.col('timestamp'), 'HH:mm:ss')))"
      ],
      "metadata": {
        "id": "I9gQjaJWd5zN"
      },
      "execution_count": null,
      "outputs": []
    },
    {
      "cell_type": "code",
      "source": [
        "df.show(5)"
      ],
      "metadata": {
        "colab": {
          "base_uri": "https://localhost:8080/"
        },
        "id": "tACUK_4oeXIe",
        "outputId": "fa7b236d-9e30-4615-cebe-379a94434593"
      },
      "execution_count": null,
      "outputs": [
        {
          "output_type": "stream",
          "name": "stdout",
          "text": [
            "+---+-----------+-----------+--------+--------------------+-----------+-----------+----------+----+-----+---+--------+\n",
            "|_c0|  device_id|temperature|humidity|           timestamp|   latitude|  longitude|      date|year|month|day|    time|\n",
            "+---+-----------+-----------+--------+--------------------+-----------+-----------+----------+----+-----+---+--------+\n",
            "|  0|sensor-2231|         25|      49|2004-10-08 05:19:...| 39.0319385|-167.644666|2004-10-08|2004|   10|  8|05:19:39|\n",
            "|  1|sensor-3869|         17|      42|2010-06-16 20:35:...| 43.4913955|  76.084671|2010-06-16|2010|    6| 16|20:35:34|\n",
            "|  2|sensor-7079|         35|      58|2010-10-03 18:10:...|-39.9795415|-149.006886|2010-10-03|2010|   10|  3|18:10:28|\n",
            "|  3|sensor-1163|         15|      64|2005-10-10 11:38:...| 28.1871005|-112.581419|2005-10-10|2005|   10| 10|11:38:19|\n",
            "|  4|sensor-4483|         14|      65|2020-04-29 07:56:...| 89.2243515| -16.076939|2020-04-29|2020|    4| 29|07:56:16|\n",
            "+---+-----------+-----------+--------+--------------------+-----------+-----------+----------+----+-----+---+--------+\n",
            "only showing top 5 rows\n",
            "\n"
          ]
        }
      ]
    },
    {
      "cell_type": "markdown",
      "source": [
        "#### Tratar Dados Nulos"
      ],
      "metadata": {
        "id": "TG48ww6-lBMr"
      }
    },
    {
      "cell_type": "code",
      "source": [
        "# Seleciona a coluna de temperatura, usa \"F.mean\" para pegar a media e coletando a informação; e faz o mesmo com Humidade\n",
        "mean_temp = df.select(F.mean(F.col('temperature'))).collect()[0][0]\n",
        "mean_humidity = df.select(F.mean(F.col('humidity'))).collect()[0][0]\n",
        "\n",
        "print(\"Média de temperatura -> \",mean_temp)\n",
        "print(\"Média de humidade -> \",mean_humidity)"
      ],
      "metadata": {
        "colab": {
          "base_uri": "https://localhost:8080/"
        },
        "id": "hxHnC10CkwZr",
        "outputId": "0b8a686b-911d-4dbf-91fd-584bce9ee616"
      },
      "execution_count": null,
      "outputs": [
        {
          "output_type": "stream",
          "name": "stdout",
          "text": [
            "Média de temperatura ->  22.491042344217934\n",
            "Média de humidade ->  55.031311808605125\n"
          ]
        }
      ]
    },
    {
      "cell_type": "code",
      "source": [
        "# Montando o dicionario: El vai preencher quando null a coluna de temperature com dados de mean_temp; O mesmo com humidity\n",
        "df = df.fillna({'temperature': mean_temp, 'humidity': mean_humidity})"
      ],
      "metadata": {
        "id": "6XTpKR5yoF91"
      },
      "execution_count": null,
      "outputs": []
    },
    {
      "cell_type": "markdown",
      "source": [
        "#### Remoção de OUTLIERS\n",
        "\n",
        "*   Será aceito temperatura entre 0 e 40, fora isso será um OUTLIERS\n",
        "*   Item da lista\n",
        "\n"
      ],
      "metadata": {
        "id": "bBLBl-jZo0XI"
      }
    },
    {
      "cell_type": "code",
      "source": [
        "# When equivalente ao \"if\" ; otherwise equivalente ao \"else\"\n",
        "# Se temperatura estiver entre 0 e 40, tá OK, usa a temperatura, senão usa mean_temp\n",
        "df = df.withColumn('temperature', F.when(F.col('temperature').between(0, 40), F.col('temperature')).otherwise(F.lit(mean_temp)))"
      ],
      "metadata": {
        "id": "DZ0C8tTrowpq"
      },
      "execution_count": null,
      "outputs": []
    },
    {
      "cell_type": "code",
      "source": [
        "df.show(10)"
      ],
      "metadata": {
        "colab": {
          "base_uri": "https://localhost:8080/"
        },
        "id": "YnFV0ApBrASl",
        "outputId": "3331a8e7-8e82-41f8-f821-b8a4b5b9ae1a"
      },
      "execution_count": null,
      "outputs": [
        {
          "output_type": "stream",
          "name": "stdout",
          "text": [
            "+---+-----------+------------------+--------+--------------------+-----------+-----------+----------+----+-----+---+--------+\n",
            "|_c0|  device_id|       temperature|humidity|           timestamp|   latitude|  longitude|      date|year|month|day|    time|\n",
            "+---+-----------+------------------+--------+--------------------+-----------+-----------+----------+----+-----+---+--------+\n",
            "|  0|sensor-2231|22.491042344217934|      49|2004-10-08 05:19:...| 39.0319385|-167.644666|2004-10-08|2004|   10|  8|05:19:39|\n",
            "|  1|sensor-3869|                17|      42|2010-06-16 20:35:...| 43.4913955|  76.084671|2010-06-16|2010|    6| 16|20:35:34|\n",
            "|  2|sensor-7079|22.491042344217934|      58|2010-10-03 18:10:...|-39.9795415|-149.006886|2010-10-03|2010|   10|  3|18:10:28|\n",
            "|  3|sensor-1163|                15|      64|2005-10-10 11:38:...| 28.1871005|-112.581419|2005-10-10|2005|   10| 10|11:38:19|\n",
            "|  4|sensor-4483|                14|      65|2020-04-29 07:56:...| 89.2243515| -16.076939|2020-04-29|2020|    4| 29|07:56:16|\n",
            "|  5|sensor-2821|                15|      52|2000-10-27 23:32:...|-55.3025525| -26.657210|2000-10-27|2000|   10| 27|23:32:49|\n",
            "|  6|sensor-9805|                12|      37|2022-08-09 22:08:...| -25.912786| 122.693490|2022-08-09|2022|    8|  9|22:08:45|\n",
            "|  7|sensor-1230|                10|      60|1970-02-02 17:32:...|-88.9300035|  33.377804|1970-02-02|1970|    2|  2|17:32:52|\n",
            "|  8|sensor-4472|                11|      75|2014-02-22 06:42:...|-89.0426855| 120.266309|2014-02-22|2014|    2| 22|06:42:24|\n",
            "|  9|sensor-2506|22.491042344217934|      47|1996-05-07 20:48:...|  12.514161|-137.848048|1996-05-07|1996|    5|  7|20:48:15|\n",
            "+---+-----------+------------------+--------+--------------------+-----------+-----------+----------+----+-----+---+--------+\n",
            "only showing top 10 rows\n",
            "\n"
          ]
        }
      ]
    },
    {
      "cell_type": "code",
      "source": [
        "#Salvando o arquivo em parquet\n",
        "df.write.parquet('parquet_tradicional_sensores.parquet')"
      ],
      "metadata": {
        "id": "ViMeax4lwHvQ"
      },
      "execution_count": 71,
      "outputs": []
    },
    {
      "cell_type": "code",
      "source": [
        "# salvando comprimindo snappy\n",
        "df.write.option('compression','snappy').parquet('parquet_snappy_sensores.parquet')"
      ],
      "metadata": {
        "id": "U09IeUtjwbpN"
      },
      "execution_count": 72,
      "outputs": []
    },
    {
      "cell_type": "code",
      "source": [
        "# salvando comprimindo gzip\n",
        "df.write.option('compression','gzip').parquet('parquet_gzip_sensores.parquet')"
      ],
      "metadata": {
        "id": "XfhFAmOcw3Hm"
      },
      "execution_count": 73,
      "outputs": []
    },
    {
      "cell_type": "code",
      "source": [
        "spark.read.parquet('parquet_tradicional_sensores.parquet').show(5)\n",
        "spark.read.parquet('parquet_snappy_sensores.parquet').show(5)\n",
        "spark.read.parquet('parquet_gzip_sensores.parquet').show(5)"
      ],
      "metadata": {
        "colab": {
          "base_uri": "https://localhost:8080/"
        },
        "id": "4AuhX4L4w-F4",
        "outputId": "d00268c4-b928-4ac7-90df-c0982520ad9a"
      },
      "execution_count": 74,
      "outputs": [
        {
          "output_type": "stream",
          "name": "stdout",
          "text": [
            "+---+-----------+------------------+--------+--------------------+-----------+-----------+----------+----+-----+---+--------+\n",
            "|_c0|  device_id|       temperature|humidity|           timestamp|   latitude|  longitude|      date|year|month|day|    time|\n",
            "+---+-----------+------------------+--------+--------------------+-----------+-----------+----------+----+-----+---+--------+\n",
            "|  0|sensor-2231|22.491042344217934|      49|2004-10-08 05:19:...| 39.0319385|-167.644666|2004-10-08|2004|   10|  8|05:19:39|\n",
            "|  1|sensor-3869|                17|      42|2010-06-16 20:35:...| 43.4913955|  76.084671|2010-06-16|2010|    6| 16|20:35:34|\n",
            "|  2|sensor-7079|22.491042344217934|      58|2010-10-03 18:10:...|-39.9795415|-149.006886|2010-10-03|2010|   10|  3|18:10:28|\n",
            "|  3|sensor-1163|                15|      64|2005-10-10 11:38:...| 28.1871005|-112.581419|2005-10-10|2005|   10| 10|11:38:19|\n",
            "|  4|sensor-4483|                14|      65|2020-04-29 07:56:...| 89.2243515| -16.076939|2020-04-29|2020|    4| 29|07:56:16|\n",
            "+---+-----------+------------------+--------+--------------------+-----------+-----------+----------+----+-----+---+--------+\n",
            "only showing top 5 rows\n",
            "\n",
            "+---+-----------+------------------+--------+--------------------+-----------+-----------+----------+----+-----+---+--------+\n",
            "|_c0|  device_id|       temperature|humidity|           timestamp|   latitude|  longitude|      date|year|month|day|    time|\n",
            "+---+-----------+------------------+--------+--------------------+-----------+-----------+----------+----+-----+---+--------+\n",
            "|  0|sensor-2231|22.491042344217934|      49|2004-10-08 05:19:...| 39.0319385|-167.644666|2004-10-08|2004|   10|  8|05:19:39|\n",
            "|  1|sensor-3869|                17|      42|2010-06-16 20:35:...| 43.4913955|  76.084671|2010-06-16|2010|    6| 16|20:35:34|\n",
            "|  2|sensor-7079|22.491042344217934|      58|2010-10-03 18:10:...|-39.9795415|-149.006886|2010-10-03|2010|   10|  3|18:10:28|\n",
            "|  3|sensor-1163|                15|      64|2005-10-10 11:38:...| 28.1871005|-112.581419|2005-10-10|2005|   10| 10|11:38:19|\n",
            "|  4|sensor-4483|                14|      65|2020-04-29 07:56:...| 89.2243515| -16.076939|2020-04-29|2020|    4| 29|07:56:16|\n",
            "+---+-----------+------------------+--------+--------------------+-----------+-----------+----------+----+-----+---+--------+\n",
            "only showing top 5 rows\n",
            "\n",
            "+---+-----------+------------------+--------+--------------------+-----------+-----------+----------+----+-----+---+--------+\n",
            "|_c0|  device_id|       temperature|humidity|           timestamp|   latitude|  longitude|      date|year|month|day|    time|\n",
            "+---+-----------+------------------+--------+--------------------+-----------+-----------+----------+----+-----+---+--------+\n",
            "|  0|sensor-2231|22.491042344217934|      49|2004-10-08 05:19:...| 39.0319385|-167.644666|2004-10-08|2004|   10|  8|05:19:39|\n",
            "|  1|sensor-3869|                17|      42|2010-06-16 20:35:...| 43.4913955|  76.084671|2010-06-16|2010|    6| 16|20:35:34|\n",
            "|  2|sensor-7079|22.491042344217934|      58|2010-10-03 18:10:...|-39.9795415|-149.006886|2010-10-03|2010|   10|  3|18:10:28|\n",
            "|  3|sensor-1163|                15|      64|2005-10-10 11:38:...| 28.1871005|-112.581419|2005-10-10|2005|   10| 10|11:38:19|\n",
            "|  4|sensor-4483|                14|      65|2020-04-29 07:56:...| 89.2243515| -16.076939|2020-04-29|2020|    4| 29|07:56:16|\n",
            "+---+-----------+------------------+--------+--------------------+-----------+-----------+----------+----+-----+---+--------+\n",
            "only showing top 5 rows\n",
            "\n"
          ]
        }
      ]
    }
  ]
}